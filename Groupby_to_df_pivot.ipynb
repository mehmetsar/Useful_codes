{
  "nbformat": 4,
  "nbformat_minor": 0,
  "metadata": {
    "colab": {
      "name": "Groupby-to-df-pivot.ipynb",
      "provenance": [],
      "authorship_tag": "ABX9TyM/+bcz5va7IJ2nyoDr3ZeQ",
      "include_colab_link": true
    },
    "kernelspec": {
      "name": "python3",
      "display_name": "Python 3"
    },
    "language_info": {
      "name": "python"
    }
  },
  "cells": [
    {
      "cell_type": "markdown",
      "metadata": {
        "id": "view-in-github",
        "colab_type": "text"
      },
      "source": [
        "<a href=\"https://colab.research.google.com/github/mehmetsar/Useful_codes/blob/main/Groupby_to_df_pivot.ipynb\" target=\"_parent\"><img src=\"https://colab.research.google.com/assets/colab-badge.svg\" alt=\"Open In Colab\"/></a>"
      ]
    },
    {
      "cell_type": "code",
      "execution_count": null,
      "metadata": {
        "id": "6eC_7O5Y3Mc3"
      },
      "outputs": [],
      "source": [
        "dffinal.pivot_table(index=['Year'], columns=['Country of origin'], values= 'applied')"
      ]
    },
    {
      "cell_type": "code",
      "source": [
        "df.groupby(bla).sum().reset_index()"
      ],
      "metadata": {
        "id": "MiERGo3b3VIf"
      },
      "execution_count": null,
      "outputs": []
    }
  ]
}