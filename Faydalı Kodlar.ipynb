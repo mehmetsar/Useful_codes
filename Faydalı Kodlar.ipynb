{
 "cells": [
  {
   "cell_type": "code",
   "execution_count": null,
   "id": "d0cfaff8",
   "metadata": {},
   "outputs": [],
   "source": [
    "from sklearn.preprocessing import Imputer\n",
    "imputer = Imputer(missing_values=\"NaN\" ,strategy=\"mean\" ,axis=0)\n",
    "imputer = imputer.fit(age[: , 0:1])\n",
    "age[: , 0:1] = imputer.transform(age[: , 0:1])"
   ]
  },
  {
   "cell_type": "code",
   "execution_count": null,
   "id": "e175d859",
   "metadata": {},
   "outputs": [],
   "source": [
    "from sklearn.cross_validation import train_test_split ##model_selection ile farkını sor\n",
    "x_train, x_test, y_train, y_test = train_test_split(concat,sex,test_size=0.33,random_state=0)"
   ]
  },
  {
   "cell_type": "code",
   "execution_count": null,
   "id": "e79b5dc7",
   "metadata": {},
   "outputs": [],
   "source": [
    "from sklearn.metrics import confusion_matrix\n",
    "# Parametre olarak karşılaştıracağımız verileri giriyoruz.\n",
    "# y_test : Cinsiyet Test Verisi\n",
    "# result : x_test verisinden tahmin ettiğimiz cinsiyet verileri\n",
    "cm = confusion_matrix(y_test,result)\n",
    "print(cm)"
   ]
  }
 ],
 "metadata": {
  "kernelspec": {
   "display_name": "Python 3",
   "language": "python",
   "name": "python3"
  },
  "language_info": {
   "codemirror_mode": {
    "name": "ipython",
    "version": 3
   },
   "file_extension": ".py",
   "mimetype": "text/x-python",
   "name": "python",
   "nbconvert_exporter": "python",
   "pygments_lexer": "ipython3",
   "version": "3.8.8"
  }
 },
 "nbformat": 4,
 "nbformat_minor": 5
}
